{
 "cells": [
  {
   "cell_type": "code",
   "execution_count": null,
   "id": "f5b07d3f",
   "metadata": {},
   "outputs": [],
   "source": [
    "import sys\n",
    "# Python 3.7 is required\n",
    "assert sys.version_info >= (3,7)\n",
    "\n",
    "import cv2 as cv\n",
    "import numpy as np\n",
    "import matplotlib.pyplot as plt\n",
    "from mpl_toolkits.mplot3d import Axes3D\n",
    "from matplotlib import cm\n",
    "from matplotlib import colors\n",
    "from matplotlib.colors import hsv_to_rgb\n",
    "\n",
    "# Make sure that optimization is enabled\n",
    "if not cv.useOptimized():\n",
    "    cv.setUseOptimized(True)\n",
    "\n",
    "cv.useOptimized()"
   ]
  },
  {
   "cell_type": "markdown",
   "id": "fe0dfe9a",
   "metadata": {},
   "source": [
    "1. Apply Hough transform (circular objects detection) and blob detection algorithm to detect coins present in image 'coins_1.jfif'. Comment on the outcomes of two methods."
   ]
  },
  {
   "cell_type": "code",
   "execution_count": null,
   "id": "6c304cdf",
   "metadata": {},
   "outputs": [],
   "source": [
    "#Using Hough Transform (circular objects detection)\n",
    "img = cv.imread('coins_1.jfif')\n",
    "gray = cv.cvtColor(img, cv.COLOR_BGR2GRAY)\n",
    "gray = cv.GaussianBlur(gray, (7, 7), 1.5)\n",
    "\n",
    "rows = gray.shape[0]\n",
    "circles = cv.HoughCircles(gray, cv.HOUGH_GRADIENT, 1, rows/8,\n",
    "                         param1 = 150, param2 = 25)\n",
    "\n",
    "if circles is not None:\n",
    "    circles = np.uint8(np.around(circles))\n",
    "    for i in circles[0, :]:\n",
    "        center = (i[0], i[1])\n",
    "        # circle center\n",
    "        cv.circle(img, center, 1, (0, 0, 200), 2)\n",
    "        # circle outline\n",
    "        radius = i[2]\n",
    "        cv.circle(img, center, radius, (0, 255, 0), 2)\n",
    "        \n",
    "cv.imshow(\"detected circles\", img)\n",
    "cv.waitKey(0)"
   ]
  },
  {
   "cell_type": "code",
   "execution_count": null,
   "id": "7b3eb961",
   "metadata": {},
   "outputs": [],
   "source": [
    "#Using blob detection algorithm\n",
    "img = cv.imread('coins_1.jfif')\n",
    "img = cv.GaussianBlur(img, (3, 3), 0)\n",
    "gray = cv.cvtColor(img, cv.COLOR_BGR2GRAY)\n",
    "\n",
    "# parameter settings\n",
    "params = cv.SimpleBlobDetector_Params()\n",
    "# set up the filter\n",
    "params.thresholdStep = 4\n",
    "\n",
    "params.filterByColor = True\n",
    "params.blobColor = 255\n",
    "params.filterByArea = True\n",
    "params.filterByConvexity = False\n",
    "params.filterByInertia = False\n",
    "\n",
    "# create object detector\n",
    "detector = cv.SimpleBlobDetector_create(params)\n",
    "keypoints = detector.detect(gray)\n",
    "\n",
    "\n",
    "blank = np.zeros((0,0))\n",
    "# draw keypoints\n",
    "im_with_keypoints = cv.drawKeypoints(img, keypoints, blank, (0, 255, 0), \n",
    "                                    cv.DRAW_MATCHES_FLAGS_DRAW_RICH_KEYPOINTS)\n",
    "\n",
    "cv.imshow('blobs', im_with_keypoints)\n",
    "cv.waitKey(0)"
   ]
  },
  {
   "cell_type": "markdown",
   "id": "ec44876c",
   "metadata": {},
   "source": [
    "2. Apply k-means clustering on 'zebra.jfif' to segment out the zebra.\n",
    "<ul>\n",
    "<li>You are required to determine the optimal k by plotting the within cluster sum of squares vs number of clusters (2-10).</li>\n",
    "    <li>Apply the clustering method on 2 color space: BGR and HSV and compare the results obtained.</li>\n",
    "</ul>"
   ]
  },
  {
   "cell_type": "code",
   "execution_count": null,
   "id": "507b549b",
   "metadata": {},
   "outputs": [],
   "source": [
    "img = cv.imread('zebra.jfif')\n",
    "img_rgb = cv.cvtColor(img, cv.COLOR_BGR2RGB)\n",
    "img_rgb = cv.GaussianBlur(img_rgb, (3, 3), 0)\n",
    "\n",
    "plt.figure()\n",
    "plt.imshow(img_rgb)\n",
    "plt.show()"
   ]
  },
  {
   "cell_type": "code",
   "execution_count": null,
   "id": "d39a187b",
   "metadata": {},
   "outputs": [],
   "source": [
    "img_reshape = img_rgb.reshape((-1, 3))\n",
    "img_reshape = np.float32(img_reshape)\n",
    "\n",
    "# k-means clustering\n",
    "criteria = (cv.TERM_CRITERIA_EPS + cv.TERM_CRITERIA_MAX_ITER, 10, 1.0)\n",
    "K = 3 # K = 3 is the most suitable.\n",
    "attempts = 10\n",
    "ret, label, center = cv.kmeans(img_reshape, K, None, criteria, attempts, cv.KMEANS_PP_CENTERS)\n",
    "\n",
    "# reshape into original dimensions\n",
    "center = np.uint8(center)\n",
    "res = center[label.flatten()]\n",
    "result = res.reshape(img_rgb.shape)\n",
    "\n",
    "from numpy import linalg as LN\n",
    "white = (255, 255, 255)\n",
    "\n",
    "Idx_min = np.argmin(LN.norm(center-white, axis = 1))\n",
    "mask = result == center[Idx_min]\n",
    "seg_img = img_rgb*(mask.astype(\"uint8\"))\n",
    "\n",
    "cv.imshow('segmentation', seg_img)\n",
    "cv.waitKey(0)"
   ]
  },
  {
   "cell_type": "code",
   "execution_count": null,
   "id": "689f9160",
   "metadata": {},
   "outputs": [],
   "source": [
    "img_hsv = cv.cvtColor(img, cv.COLOR_BGR2HSV)\n",
    "\n",
    "# reshape and convert to float32\n",
    "img_reshape = img_hsv.reshape((-1, 3))\n",
    "img_reshape = np.float32(img_reshape)\n",
    "\n",
    "# Define criteria, attempts and number of clusters\n",
    "criteria = (cv.TERM_CRITERIA_EPS + cv.TERM_CRITERIA_MAX_ITER, 10, 1.0)\n",
    "attempts = 10\n",
    "K = 3\n",
    "\n",
    "ret, label, center = cv.kmeans(img_reshape, K, None, criteria, attempts, cv.KMEANS_PP_CENTERS)\n",
    "\n",
    "# Convert the center to np.uint8\n",
    "center = np.uint8(center)\n",
    "res = center[label.flatten()]\n",
    "result_img = res.reshape(img_hsv.shape)"
   ]
  },
  {
   "cell_type": "code",
   "execution_count": null,
   "id": "fd80cac3",
   "metadata": {},
   "outputs": [],
   "source": [
    "img_reshape_bgr = img.reshape((-1, 3))\n",
    "img_reshape_bgr = np.float32(img_reshape_bgr)\n",
    "\n",
    "# Define criteria, attempts and number of clusters\n",
    "criteria = (cv.TERM_CRITERIA_EPS + cv.TERM_CRITERIA_MAX_ITER, 10, 1.0)\n",
    "attempts = 10\n",
    "K = 3\n",
    "\n",
    "ret, label, center = cv.kmeans(img_reshape_bgr, K, None, criteria, attempts, cv.KMEANS_PP_CENTERS)\n",
    "\n",
    "# Convert the center to np.uint8\n",
    "center = np.uint8(center)\n",
    "res = center[label.flatten()]\n",
    "result_img_bgr = res.reshape(img.shape)"
   ]
  },
  {
   "cell_type": "code",
   "execution_count": null,
   "id": "fa7a6888",
   "metadata": {},
   "outputs": [],
   "source": [
    "cv.imshow('segmentation hsv', cv.cvtColor(result_img, cv.COLOR_HSV2RGB))\n",
    "cv.imshow('segmentation bgr', cv.cvtColor(result_img_bgr, cv.COLOR_BGR2RGB))\n",
    "cv.waitKey(0)"
   ]
  },
  {
   "cell_type": "code",
   "execution_count": null,
   "id": "45c17f00",
   "metadata": {},
   "outputs": [],
   "source": [
    "plt.subplot(1, 3, 1)\n",
    "plt.imshow(cv.cvtColor(img, cv.COLOR_BGR2RGB))\n",
    "plt.title('original'), plt.axis(\"off\")\n",
    "plt.subplot(1, 3, 2)\n",
    "plt.imshow(cv.cvtColor(result_img, cv.COLOR_HSV2RGB))\n",
    "plt.title(f'k = {K} (HSV)'), plt.axis(\"off\")\n",
    "plt.subplot(1, 3, 3)\n",
    "plt.imshow(cv.cvtColor(result_img_bgr, cv.COLOR_BGR2RGB))\n",
    "plt.title(f'k = {K} (BGR)'), plt.axis(\"off\")\n",
    "plt.show()"
   ]
  },
  {
   "cell_type": "code",
   "execution_count": null,
   "id": "8be606a3",
   "metadata": {},
   "outputs": [],
   "source": []
  }
 ],
 "metadata": {
  "kernelspec": {
   "display_name": "Python 3 (ipykernel)",
   "language": "python",
   "name": "python3"
  },
  "language_info": {
   "codemirror_mode": {
    "name": "ipython",
    "version": 3
   },
   "file_extension": ".py",
   "mimetype": "text/x-python",
   "name": "python",
   "nbconvert_exporter": "python",
   "pygments_lexer": "ipython3",
   "version": "3.9.12"
  }
 },
 "nbformat": 4,
 "nbformat_minor": 5
}
