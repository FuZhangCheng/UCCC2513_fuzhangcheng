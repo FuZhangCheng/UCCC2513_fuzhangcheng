{
 "cells": [
  {
   "cell_type": "code",
   "execution_count": 2,
   "id": "2b499baa",
   "metadata": {},
   "outputs": [
    {
     "data": {
      "text/plain": [
       "True"
      ]
     },
     "execution_count": 2,
     "metadata": {},
     "output_type": "execute_result"
    }
   ],
   "source": [
    "import sys\n",
    "# Python 3.7 is required\n",
    "assert sys.version_info >= (3,7)\n",
    "\n",
    "import cv2 as cv\n",
    "import numpy as np\n",
    "import matplotlib.pyplot as plt\n",
    "from mpl_toolkits.mplot3d import Axes3D\n",
    "from matplotlib import cm\n",
    "from matplotlib import colors\n",
    "from matplotlib.colors import hsv_to_rgb\n",
    "\n",
    "# Make sure that optimization is enabled\n",
    "if not cv.useOptimized():\n",
    "    cv.setUseOptimized(True)\n",
    "\n",
    "cv.useOptimized()"
   ]
  },
  {
   "cell_type": "markdown",
   "id": "32f8580e",
   "metadata": {},
   "source": [
    "1. Apply histogram equalization on a histogram equalized image. In other words, apply histogram equalization twice on an image. Is there any difference between the first and second output image?"
   ]
  },
  {
   "cell_type": "code",
   "execution_count": 4,
   "id": "ac0f9fcf",
   "metadata": {},
   "outputs": [],
   "source": [
    "img = cv.imread('dog1.jfif', 0)\n",
    "\n",
    "equ = cv.equalizeHist(img)\n",
    "equ2 = cv.equalizeHist(equ)\n",
    "cv.imshow('original', img)\n",
    "cv.imshow('first_equ_image', equ)\n",
    "cv.imshow('second_equ_image', equ2)\n",
    "\n",
    "#There is no any difference between these two images.\n",
    "\n",
    "cv.waitKey(0)\n",
    "cv.destroyAllWindows()"
   ]
  },
  {
   "cell_type": "markdown",
   "id": "cbbdca1d",
   "metadata": {},
   "source": [
    "2. Load the image 'electronic.jfif'. Then,\n",
    "<ol type=\"I\">\n",
    "  <li>Experiment with Sobel operators with different kernel size. Which kernel size is the most appropriate and effectively show the boundaries of most of the electonic gadgets? </li>\n",
    "  <li>Perform edge detection using Sobel operator (combined both x and y) with and without image smoothing (Gaussian blurring). Display the 2 images.</li>\n",
    "  <li>Try Laplacian of Gaussian</li>  \n",
    "</ol>   \n",
    "Based on the exercise conducted from (1) - (3), which image processing pathway is optimal in identifying the boundaries of objects? Justify your answer."
   ]
  },
  {
   "cell_type": "code",
   "execution_count": 6,
   "id": "901588d1",
   "metadata": {},
   "outputs": [],
   "source": [
    "#A.\n",
    "img = cv.imread('electronic.jfif', 0)\n",
    "\n",
    "img_blur = cv.GaussianBlur(img, (5, 5), 0)\n",
    "\n",
    "for i in range(1, 6, 2):\n",
    "    sobelx = cv.Sobel(img_blur, cv.CV_64F, 1, 0, ksize = i)\n",
    "    sobelx_8u = np.uint8(np.absolute(sobelx))\n",
    "    cv.imshow('Sobel x' + str(i), sobelx_8u)\n",
    "\n",
    "#Kernel size of 3 is the most appriopriate.\n",
    "    \n",
    "cv.waitKey(0)\n",
    "cv.destroyAllWindows()"
   ]
  },
  {
   "cell_type": "code",
   "execution_count": 7,
   "id": "f45046c1",
   "metadata": {},
   "outputs": [],
   "source": [
    "#B.\n",
    "sobelxy = cv.Sobel(img, cv.CV_64F, 1, 1, ksize = 3)\n",
    "sobelxy_8u = np.uint8(np.absolute(sobelxy))\n",
    "sobelxy_blur = cv.Sobel(img_blur, cv.CV_64F, 1, 1, ksize = 3)\n",
    "sobelxy_8u_blur = np.uint8(np.absolute(sobelxy_blur))\n",
    "\n",
    "cv.imshow('Sobel not blurred', sobelxy_8u)\n",
    "cv.imshow('Sobel blurred', sobelxy_8u_blur)\n",
    "cv.waitKey(0)\n",
    "cv.destroyAllWindows()"
   ]
  },
  {
   "cell_type": "code",
   "execution_count": 8,
   "id": "a8e17450",
   "metadata": {},
   "outputs": [],
   "source": [
    "#C.\n",
    "laplacian_blur = cv.Laplacian(img_blur, cv.CV_64F, ksize = 3)\n",
    "laplacian_blur = np.uint8(np.absolute(laplacian_blur))\n",
    "\n",
    "cv.imshow('results', laplacian_blur)\n",
    "cv.waitKey(0)\n",
    "cv.destroyAllWindows()"
   ]
  },
  {
   "cell_type": "markdown",
   "id": "5238d9ee",
   "metadata": {},
   "source": [
    "3. Experiment with different edge detectors: Sobel, Laplacian, Prewitt, Scharr derivatives and Canny operators (all with aperture size of 3) on image named 'pineapple.jfif'. Comment on the results."
   ]
  },
  {
   "cell_type": "code",
   "execution_count": 9,
   "id": "4ff446b5",
   "metadata": {},
   "outputs": [],
   "source": [
    "img = cv.imread('pineapple.jfif', 0)\n",
    "\n",
    "img_blur = cv.GaussianBlur(img, (3, 3), 0)\n",
    "\n",
    "#Sobel\n",
    "sobel = cv.Sobel(img_blur, cv.CV_64F, 1, 0, ksize = 3)\n",
    "sobel_8u = np.uint8(np.absolute(sobel))\n",
    "\n",
    "#Laplacian\n",
    "laplacian = cv.Laplacian(img_blur, cv.CV_64F, ksize = 3)\n",
    "laplacian_8u = np.uint8(np.absolute(laplacian))\n",
    "\n",
    "#prewitt\n",
    "kernelx = np.array([[1,1,1],[0,0,0],[-1,-1,-1]])\n",
    "kernely = np.array([[-1,0,1],[-1,0,1],[-1,0,1]])\n",
    "img_prewittx = cv.filter2D(img_blur, -1, kernelx)\n",
    "img_prewitty = cv.filter2D(img_blur, -1, kernely)\n",
    "\n",
    "#scharr\n",
    "img_scharr_x = cv.Scharr(img_blur, cv.CV_64F, 1, 0)\n",
    "img_scharr_x = np.uint8(np.absolute(img_scharr_x))\n",
    "img_scharr_y = cv.Scharr(img_blur, cv.CV_64F, 0, 1)\n",
    "img_scharr_y = np.uint8(np.absolute(img_scharr_y))\n",
    "img_scharr = cv.bitwise_or(img_scharr_x,img_scharr_y) \n",
    "\n",
    "#canny\n",
    "img_canny = cv.Canny(img_blur, 100, 200)\n",
    "\n",
    "cv.imshow('sobel_results', sobel_8u)\n",
    "cv.imshow('laplacian_results', laplacian)\n",
    "cv.imshow('prewitt_results', img_prewittx + img_prewitty)\n",
    "cv.imshow('scharr_results', img_scharr)\n",
    "cv.imshow('canny_results', img_canny)\n",
    "cv.waitKey(0)\n",
    "cv.destroyAllWindows()"
   ]
  },
  {
   "cell_type": "markdown",
   "id": "2b36c83a",
   "metadata": {},
   "source": [
    "4. Write a program to identify the white object (probably laptop) present in the image 'electronic.jfif'. Draw bounding boxes on the objects."
   ]
  },
  {
   "cell_type": "code",
   "execution_count": 10,
   "id": "ace87dd6",
   "metadata": {},
   "outputs": [
    {
     "data": {
      "text/plain": [
       "-1"
      ]
     },
     "execution_count": 10,
     "metadata": {},
     "output_type": "execute_result"
    }
   ],
   "source": [
    "img = cv.imread('electronic.jfif', 0)\n",
    "\n",
    "ret, thresh = cv.threshold(img, 100, 255, cv.THRESH_BINARY)\n",
    "contours, _ = cv.findContours(thresh, cv.RETR_TREE, cv.CHAIN_APPROX_SIMPLE)\n",
    "\n",
    "# Draw contours\n",
    "cnt = contours[0]\n",
    "img_bgr = cv.imread('electronic.jfif')\n",
    "cv.drawContours(img_bgr, [cnt], 0, (0, 0, 255), 2, cv.LINE_AA)\n",
    "\n",
    "img = cv.imread('electronic.jfif')\n",
    "x, y, w, h = cv.boundingRect(cnt)\n",
    "cv.rectangle(img, (x,y), (x+w, y+h), (0, 255, 0), 2)\n",
    "\n",
    "cv.imshow('bounding boxes', img_bgr)\n",
    "cv.waitKey(0)"
   ]
  }
 ],
 "metadata": {
  "kernelspec": {
   "display_name": "Python 3 (ipykernel)",
   "language": "python",
   "name": "python3"
  },
  "language_info": {
   "codemirror_mode": {
    "name": "ipython",
    "version": 3
   },
   "file_extension": ".py",
   "mimetype": "text/x-python",
   "name": "python",
   "nbconvert_exporter": "python",
   "pygments_lexer": "ipython3",
   "version": "3.9.12"
  }
 },
 "nbformat": 4,
 "nbformat_minor": 5
}
