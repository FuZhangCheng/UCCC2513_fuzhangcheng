{
 "cells": [
  {
   "cell_type": "code",
   "execution_count": 31,
   "id": "15c09c7e",
   "metadata": {},
   "outputs": [],
   "source": [
    "import cv2 as cv\n",
    "import numpy as np\n",
    "import os\n",
    "import sys\n",
    "\n",
    "assert sys.version_info >= (3,7)"
   ]
  },
  {
   "cell_type": "markdown",
   "id": "e87d94ef",
   "metadata": {},
   "source": [
    "1. _Suggest two ways and write codes to display two images simultaneously_. You can use any image snapped from your handphone, \n",
    "downloaded from internet or images from week 4 materials on MS teams. The two images are a color image and its corresponding \n",
    "grayscale image."
   ]
  },
  {
   "cell_type": "code",
   "execution_count": 26,
   "id": "5b88e33c",
   "metadata": {},
   "outputs": [],
   "source": [
    "# First way to display color image and grayscale image\n",
    "img1 = cv.imread('Cat.jpg')\n",
    "img_gs1 = cv.imread('Cat.jpg', 0)\n",
    "# Second way to display color image and grayscale image\n",
    "img2 = cv.imread('TreeFlower.jpg')\n",
    "img_gs2 = cv.cvtColor(img, cv.COLOR_BGR2GRAY)\n",
    "\n",
    "cv.imshow('original image 1',img1)\n",
    "cv.imshow('grayscale_image 1', img_gs1)\n",
    "cv.imshow('original image 2',img2)\n",
    "cv.imshow('grayscale_image 2',img_gs2)\n",
    "cv.waitKey(0)\n",
    "cv.destroyAllWindows()"
   ]
  },
  {
   "cell_type": "markdown",
   "id": "540fc586",
   "metadata": {},
   "source": [
    "2. Write codes that performs the following:\n",
    "    - Load the video “img_pexels.mp4” into the Python environment, *resize* it and display the videos with smaller frames (The frames can be of any size, as long as it is smaller). You can specify an arbitrary frame rate.\n",
    "    - Save it as a separate files: “smaller_img_pexels.avi” or \"smaller_img_pexels.mp4\""
   ]
  },
  {
   "cell_type": "code",
   "execution_count": 34,
   "id": "9294674e",
   "metadata": {},
   "outputs": [],
   "source": [
    "cap = cv.VideoCapture('img_pexels.mp4')\n",
    "\n",
    "if not cap.isOpened():\n",
    "    print(\"Unable to create video\")\n",
    "\n",
    "    \n",
    "#custom width and height set as 360 and 480\n",
    "fourcc = cv.VideoWriter_fourcc('M', 'J', 'P', 'G')\n",
    "fps = 20\n",
    "out = cv.VideoWriter('smaller_img_pexels.avi', fourcc, fps, (360, 480))\n",
    "\n",
    "while cap.isOpened():\n",
    "    ret, frame = cap.read()\n",
    "\n",
    "    if not ret:\n",
    "        print(\"Can't receive frame.\")\n",
    "        break\n",
    "        \n",
    "    frame_resize = cv.resize(frame, (360, 480), interpolation = cv.INTER_AREA)\n",
    "    \n",
    "    cv.namedWindow(\"frame\", cv.WINDOW_NORMAL)\n",
    "    cv.imshow('frame', frame_resize)\n",
    "    out.write(frame_resize)\n",
    "\n",
    "    # Press Esc key to exit\n",
    "    if cv.waitKey(1) & 0xFF == 27:\n",
    "        break\n",
    "\n",
    "cap.release()\n",
    "out.release()\n",
    "cv.destroyAllWindows()"
   ]
  },
  {
   "cell_type": "markdown",
   "id": "ae09a77d",
   "metadata": {},
   "source": [
    "3. Create a **random noise color and grayscale** image. You can set a custom width and height. (Hint: use Numpy functions like `np.array` and `np.reshape`.)"
   ]
  },
  {
   "cell_type": "code",
   "execution_count": 28,
   "id": "5a37c7e0",
   "metadata": {},
   "outputs": [],
   "source": [
    "img = np.array([x for x in np.random.randint(255, size = (300 * 300 * 3))], dtype=np.uint8)\n",
    "random_noise = img.reshape(300, 300, 3)\n",
    "random_noise_grayscale = cv.cvtColor(random_noise, cv.COLOR_BGR2GRAY)\n",
    "\n",
    "cv.imshow('Random noise color and Grayscale', random_noise_grayscale)\n",
    "cv.waitKey(0)\n",
    "cv.destroyAllWindows()"
   ]
  },
  {
   "cell_type": "markdown",
   "id": "ea77e43a",
   "metadata": {},
   "source": [
    "4. Extract the region of interest (flower) from the 'flower.jfif'."
   ]
  },
  {
   "cell_type": "code",
   "execution_count": 29,
   "id": "b57e31d7",
   "metadata": {},
   "outputs": [],
   "source": [
    "imgflo = cv.imread('flower.jfif')\n",
    "imgflo = imgflo[40:120,80:200]\n",
    "cv.imshow('Flower', imgflo)\n",
    "cv.waitKey(0)\n",
    "cv.destroyAllWindows()"
   ]
  },
  {
   "cell_type": "markdown",
   "id": "a09fee7a",
   "metadata": {},
   "source": [
    "5. Enlarge the image \"dog.jfif\" by using different techniques: 1) Linear interpolation, 2) Cubic interpolation and 3) nearest neighbor interpolation. Comment on the upscaled of all the outputs."
   ]
  },
  {
   "cell_type": "code",
   "execution_count": 30,
   "id": "cc598187",
   "metadata": {},
   "outputs": [],
   "source": [
    "imgdog = cv.imread('dog.jfif')\n",
    "imgdog_resize1 = cv.resize(imgdog, None, fx = 1.5, fy = 1.5, interpolation = cv.INTER_LINEAR)\n",
    "imgdog_resize2 = cv.resize(imgdog, None, fx = 1.5, fy = 1.5, interpolation = cv.INTER_CUBIC)\n",
    "imgdog_resize3 = cv.resize(imgdog, None, fx = 1.5, fy = 1.5, interpolation = cv.INTER_NEAREST)\n",
    "\n",
    "cv.imshow('Dog_original', imgdog)\n",
    "cv.imshow('Dog_resize1_Linear interpolation', imgdog_resize1)\n",
    "cv.imshow('Dog_resize2_Cubic interpolation', imgdog_resize2)\n",
    "cv.imshow('Dog_resize3_Nearest neighbor interpolation', imgdog_resize3)\n",
    "cv.waitKey(0)\n",
    "cv.destroyAllWindows()"
   ]
  }
 ],
 "metadata": {
  "kernelspec": {
   "display_name": "Python 3 (ipykernel)",
   "language": "python",
   "name": "python3"
  },
  "language_info": {
   "codemirror_mode": {
    "name": "ipython",
    "version": 3
   },
   "file_extension": ".py",
   "mimetype": "text/x-python",
   "name": "python",
   "nbconvert_exporter": "python",
   "pygments_lexer": "ipython3",
   "version": "3.9.12"
  }
 },
 "nbformat": 4,
 "nbformat_minor": 5
}
