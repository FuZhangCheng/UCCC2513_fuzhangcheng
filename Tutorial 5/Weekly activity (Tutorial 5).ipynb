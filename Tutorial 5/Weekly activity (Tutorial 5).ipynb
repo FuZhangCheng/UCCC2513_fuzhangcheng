{
 "cells": [
  {
   "cell_type": "code",
   "execution_count": 1,
   "id": "eee2d510",
   "metadata": {},
   "outputs": [
    {
     "data": {
      "text/plain": [
       "True"
      ]
     },
     "execution_count": 1,
     "metadata": {},
     "output_type": "execute_result"
    }
   ],
   "source": [
    "import sys\n",
    "# Python 3.7 is required\n",
    "assert sys.version_info >= (3,7)\n",
    "\n",
    "import cv2 as cv\n",
    "import numpy as np\n",
    "import matplotlib.pyplot as plt\n",
    "\n",
    "\n",
    "# Make sure that optimization is enabled\n",
    "if not cv.useOptimized():\n",
    "    cv.setUseOptimized(True)\n",
    "\n",
    "cv.useOptimized()"
   ]
  },
  {
   "cell_type": "markdown",
   "id": "9964a5e8",
   "metadata": {},
   "source": [
    "1. Convert the code chunk found under section Divide an image into smaller patches using cropping into a function with the following signature:\n",
    "crop_grid(img, num_horizontal_grid, num_vertical_grid, line_color)"
   ]
  },
  {
   "cell_type": "code",
   "execution_count": 2,
   "id": "2c24843c",
   "metadata": {},
   "outputs": [],
   "source": [
    "img = cv.imread('dog.jfif')\n",
    "img_copy = img.copy()\n",
    "\n",
    "def crop_grid(img, num_horizontal_grid, num_vertical_grid, line_color):\n",
    "    height, width = img.shape[:2]\n",
    "    M, N = int(height/num_horizontal_grid), int(width/num_vertical_grid)\n",
    "    x1, y1 = 0, 0\n",
    "    \n",
    "    for y in range(0, height, M):\n",
    "        for x in range(0, width, N):\n",
    "            \n",
    "            y1 = y + M   \n",
    "            x1 = x + N\n",
    "        \n",
    "            if x1 >= width and y1 >= height:\n",
    "                x1 = width - 1\n",
    "                y1 = height - 1\n",
    "                tile = img[y:height, x:width]\n",
    "                cv.rectangle(img_copy, (x, y), (x1, y1), line_color, 1)\n",
    "                #cv.imshow('tile', tile)\n",
    "\n",
    "            elif y1 >= height:\n",
    "                y1 = height - 1\n",
    "                cv.rectangle(img_copy, (x, y), (x1, y1), line_color, 1)\n",
    "            \n",
    "            elif x1 >= width:\n",
    "                x1 = width - 1\n",
    "                cv.rectangle(img_copy, (x, y), (x1, y1), line_color, 1)\n",
    "        \n",
    "            else:\n",
    "                cv.rectangle(img_copy, (x, y), (x1, y1), line_color, 1)\n",
    "\n",
    "crop_grid(img, 2, 3, (0, 255, 0)) #run crop_grid function                \n",
    "                \n",
    "cv.imshow('patched image', img_copy)\n",
    "cv.waitKey(0)\n",
    "cv.destroyAllWindows()"
   ]
  },
  {
   "cell_type": "markdown",
   "id": "462e9afe",
   "metadata": {},
   "source": [
    "2. Display image sequences of smooth transition of two images with different values of \n",
    "α\n",
    ". Refer to code in section \"Image blending\". Use \"lena.jfif\" and \"coins.jfif\" as the base images."
   ]
  },
  {
   "cell_type": "code",
   "execution_count": 4,
   "id": "3332f889",
   "metadata": {},
   "outputs": [],
   "source": [
    "img1 = cv.imread('lena.jfif')\n",
    "img2 = cv.imread('coins.jfif')\n",
    "\n",
    "new_shape = img1.shape[:2]\n",
    "img2 = cv.resize(img2, new_shape)\n",
    "\n",
    "#It will display blended images sequences (alpha = 0.0, 0.1, 0.2, ... , 0.9, 1.0)\n",
    "for i in np.arange(0, 1.1, 0.1):\n",
    "    bldimg = cv.addWeighted(img1, i, img2, 1 - i, 0)\n",
    "    cv.imshow('blended_image alpha = ' + str(i), bldimg)\n",
    "\n",
    "cv.waitKey(0)\n",
    "cv.destroyAllWindows()"
   ]
  },
  {
   "cell_type": "markdown",
   "id": "23c24c65",
   "metadata": {},
   "source": [
    "3. Rotate image by 45 degrees without cropping the sides of the image. (Hint: There are 2 strategies to tackle these problems). Use \"lena.jfif\" as the input image.\n",
    "- Use external libraries imutils.\n",
    "- Modify the transformation matrix."
   ]
  },
  {
   "cell_type": "code",
   "execution_count": 6,
   "id": "2525fd1f",
   "metadata": {},
   "outputs": [],
   "source": [
    "#First way\n",
    "import imutils\n",
    "import math\n",
    "img = cv.imread('lena.jfif')\n",
    "\n",
    "rotated = imutils.rotate(img, angle=45)\n",
    "cv.imshow(\"Rotated image\", rotated)\n",
    "\n",
    "cv.waitKey(0)\n",
    "cv.destroyAllWindows()"
   ]
  },
  {
   "cell_type": "code",
   "execution_count": 7,
   "id": "d7a31cf2",
   "metadata": {},
   "outputs": [],
   "source": [
    "#Second way\n",
    "imgbd = cv.imread('lena.jfif')\n",
    "\n",
    "y, x = imgbd.shape[:2]\n",
    "\n",
    "p1 = np.array([x / 2, 0])\n",
    "p2 = np.array([x / 2, y / 2])\n",
    "p3 = np.array([0, y / 2])\n",
    "\n",
    "pts1 = np.float32([p1, p2, p3]) # before transformation\n",
    "\n",
    "#rotation\n",
    "p1, p2, p3 = p1 - np.array([x / 2, y / 2]), p2 - np.array([x / 2, y / 2]), p3 - np.array([x / 2, y / 2])\n",
    "rotation45 = np.array([[math.cos(-math.pi / 4), -math.sin(-math.pi / 4)], [math.sin(-math.pi / 4), math.cos(-math.pi / 4)]])\n",
    "p1, p2, p3 = np.dot(rotation45, p1) + np.array([x / 2, y / 2]), np.dot(rotation45, p2) + np.array([x / 2, y / 2]), np.dot(rotation45, p3) + np.array([x / 2, y / 2])\n",
    "\n",
    "pts2 = np.float32([p1, p2, p3]) # after transformation\n",
    "\n",
    "M = cv.getAffineTransform(pts1,pts2)\n",
    "\n",
    "rotated = cv.warpAffine(imgbd,M,(x, y))\n",
    "\n",
    "\n",
    "cv.imshow(\"Rotated image\", rotated)\n",
    "\n",
    "cv.waitKey(0)\n",
    "cv.destroyAllWindows()"
   ]
  },
  {
   "cell_type": "markdown",
   "id": "8afcc8b7",
   "metadata": {},
   "source": [
    "4. Use the images with titles: \"flower.jfif\" and \"native-bee.png\". I want to put flower above an image. If I add two images, it will change color. If I blend it, I get a transparent effect. But I want it to be opaque. If it was a rectangular region, we could use the ROI as we did in the previous section. But flower is not a rectangular region. This is where bitwise operations, like AND, OR, NOT and XOR really come in handy. The associated functions are cv.bitwise_and(), cv.bitwise_or() and cv.bitwise_not(). You need to use cv.threshold function to segment the flower."
   ]
  },
  {
   "cell_type": "code",
   "execution_count": 8,
   "id": "ca5b8475",
   "metadata": {},
   "outputs": [],
   "source": [
    "imgflo = cv.imread('flower.jfif') #img2\n",
    "imgbee = cv.imread('native-bee.png') #img1\n",
    "\n",
    "imgflo[120:183, :175] = (0, 0, 0) \n",
    "\n",
    "rows,cols,channels = imgflo.shape\n",
    "roi = imgbee[0:rows, 0:cols]\n",
    "\n",
    "imgflogray = cv.cvtColor(imgflo,cv.COLOR_BGR2GRAY)\n",
    "ret, mask = cv.threshold(imgflogray, 10, 255, cv.THRESH_BINARY)\n",
    "mask_inv = cv.bitwise_not(mask)\n",
    "\n",
    "imgbee_bg = cv.bitwise_and(roi,roi,mask = mask_inv)\n",
    "\n",
    "imgflo_fg = cv.bitwise_and(imgflo,imgflo,mask = mask)\n",
    "\n",
    "dst = cv.add(imgbee_bg,imgflo_fg)\n",
    "imgbee[0:rows, 0:cols] = dst\n",
    "cv.imshow('res',imgbee)\n",
    "cv.waitKey(0)\n",
    "cv.destroyAllWindows()"
   ]
  }
 ],
 "metadata": {
  "kernelspec": {
   "display_name": "Python 3 (ipykernel)",
   "language": "python",
   "name": "python3"
  },
  "language_info": {
   "codemirror_mode": {
    "name": "ipython",
    "version": 3
   },
   "file_extension": ".py",
   "mimetype": "text/x-python",
   "name": "python",
   "nbconvert_exporter": "python",
   "pygments_lexer": "ipython3",
   "version": "3.9.12"
  }
 },
 "nbformat": 4,
 "nbformat_minor": 5
}
