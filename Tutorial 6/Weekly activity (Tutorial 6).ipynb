{
 "cells": [
  {
   "cell_type": "code",
   "execution_count": 1,
   "id": "32d9a8b1",
   "metadata": {},
   "outputs": [
    {
     "data": {
      "text/plain": [
       "True"
      ]
     },
     "execution_count": 1,
     "metadata": {},
     "output_type": "execute_result"
    }
   ],
   "source": [
    "import sys\n",
    "# Python 3.7 is required\n",
    "assert sys.version_info >= (3,7)\n",
    "\n",
    "import cv2 as cv\n",
    "import numpy as np\n",
    "import matplotlib.pyplot as plt\n",
    "from mpl_toolkits.mplot3d import Axes3D\n",
    "from matplotlib import cm\n",
    "from matplotlib import colors\n",
    "from matplotlib.colors import hsv_to_rgb\n",
    "\n",
    "# Make sure that optimization is enabled\n",
    "if not cv.useOptimized():\n",
    "    cv.setUseOptimized(True)\n",
    "\n",
    "cv.useOptimized()"
   ]
  },
  {
   "cell_type": "markdown",
   "id": "7cdcb258",
   "metadata": {},
   "source": [
    "1. Write a program to *segment the boat and the people on it from the background*. Follow the instruction below:\n",
    "    - Use 'boat.jpg' as input.\n",
    "    - Apply Otsu thresholding.\n",
    "    - Draw bounding box to identify the region where the boat and people are located."
   ]
  },
  {
   "cell_type": "code",
   "execution_count": 2,
   "id": "30ba748e",
   "metadata": {},
   "outputs": [],
   "source": [
    "img = cv.imread(\"boat.jpg\", 0)\n",
    "\n",
    "blur = cv.GaussianBlur(img, (5, 5), 0)\n",
    "ret, imgotsu = cv.threshold(blur, 0, 255, cv.THRESH_BINARY_INV+cv.THRESH_OTSU)\n",
    "\n",
    "result = img.copy()\n",
    "contours = cv.findContours(imgotsu, cv.RETR_EXTERNAL, cv.CHAIN_APPROX_SIMPLE)\n",
    "contours = contours[0] if len(contours) == 2 else contours[1]\n",
    "for cntr in contours:\n",
    "    x,y,w,h = cv.boundingRect(cntr)\n",
    "    cv.rectangle(result, (x, y), (x+w, y+h), (0, 0, 255), 2)\n",
    "    #print(\"x,y,w,h:\",x,y,w,h)\n",
    "\n",
    "cv.imshow(\"boat\", result)\n",
    "cv.waitKey(0)\n",
    "cv.destroyAllWindows()"
   ]
  },
  {
   "cell_type": "markdown",
   "id": "f180c380",
   "metadata": {},
   "source": [
    "2. Write a program to visualize the effect of size of structuring element on the morphological transformation (e.g. erosion, dilation, opening, and closing). \n",
    "    - Load the 'leaf.jfif' and perform thresholding to segment the leaf from the background.\n",
    "    - Create a GUI containing trackbar to control the size of structuring element and display the resulting image on a window alongside the trackbar."
   ]
  },
  {
   "cell_type": "code",
   "execution_count": 9,
   "id": "ea41e9f5",
   "metadata": {},
   "outputs": [],
   "source": [
    "imgleaf = cv.imread(\"leaf.jfif\", 0)\n",
    "\n",
    "blur = cv.GaussianBlur(imgleaf, (5, 5), 0)\n",
    "ret, imgotsu = cv.threshold(blur, 0, 255, cv.THRESH_BINARY+cv.THRESH_OTSU)\n",
    "\n",
    "def trackbar_erosion(x):\n",
    "    kernel = np.ones((x, x), np.uint8)\n",
    "    erosion = cv.erode(imgotsu, kernel, iterations = 1) #erosion\n",
    "    dilation = cv.dilate(imgotsu, kernel,iterations = 1) #dilation\n",
    "    opening = cv.morphologyEx(imgotsu, cv.MORPH_OPEN, kernel) #opening\n",
    "    closing = cv.morphologyEx(imgotsu, cv.MORPH_CLOSE, kernel) # closing\n",
    "    combined_images = np.hstack((imgotsu, erosion, dilation, opening, closing))\n",
    "    \n",
    "    cv.imshow('erosion', combined_images)\n",
    "\n",
    "cv.namedWindow('erosion')\n",
    "cv.createTrackbar('size(n)', 'erosion', 10, 20, trackbar_erosion)\n",
    "\n",
    "cv.waitKey(0)\n",
    "cv.destroyAllWindows()"
   ]
  },
  {
   "cell_type": "code",
   "execution_count": null,
   "id": "79771027",
   "metadata": {},
   "outputs": [],
   "source": []
  }
 ],
 "metadata": {
  "kernelspec": {
   "display_name": "Python 3 (ipykernel)",
   "language": "python",
   "name": "python3"
  },
  "language_info": {
   "codemirror_mode": {
    "name": "ipython",
    "version": 3
   },
   "file_extension": ".py",
   "mimetype": "text/x-python",
   "name": "python",
   "nbconvert_exporter": "python",
   "pygments_lexer": "ipython3",
   "version": "3.9.12"
  }
 },
 "nbformat": 4,
 "nbformat_minor": 5
}
