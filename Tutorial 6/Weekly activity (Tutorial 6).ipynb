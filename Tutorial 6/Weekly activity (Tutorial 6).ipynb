{
 "cells": [
  {
   "cell_type": "code",
   "execution_count": null,
   "id": "32d9a8b1",
   "metadata": {},
   "outputs": [],
   "source": [
    "import sys\n",
    "# Python 3.7 is required\n",
    "assert sys.version_info >= (3,7)\n",
    "\n",
    "import cv2 as cv\n",
    "import numpy as np\n",
    "import matplotlib.pyplot as plt\n",
    "from mpl_toolkits.mplot3d import Axes3D\n",
    "from matplotlib import cm\n",
    "from matplotlib import colors\n",
    "from matplotlib.colors import hsv_to_rgb\n",
    "\n",
    "# Make sure that optimization is enabled\n",
    "if not cv.useOptimized():\n",
    "    cv.setUseOptimized(True)\n",
    "\n",
    "cv.useOptimized()"
   ]
  },
  {
   "cell_type": "markdown",
   "id": "7cdcb258",
   "metadata": {},
   "source": [
    "1. Write a program to *segment the boat and the people on it from the background*. Follow the instruction below:\n",
    "    - Use 'boat.jpg' as input.\n",
    "    - Apply Otsu thresholding.\n",
    "    - Draw bounding box to identify the region where the boat and people are located."
   ]
  },
  {
   "cell_type": "code",
   "execution_count": null,
   "id": "30ba748e",
   "metadata": {},
   "outputs": [],
   "source": [
    "img = cv.imread(\"boat.jpg\", 0)\n",
    "\n",
    "blur = cv.GaussianBlur(img, (5, 5), 0)\n",
    "ret, imgotsu = cv.threshold(blur, 0, 255, cv.THRESH_BINARY_INV+cv.THRESH_OTSU)\n",
    "\n",
    "result = img.copy()\n",
    "contours = cv.findContours(imgotsu, cv.RETR_EXTERNAL, cv.CHAIN_APPROX_SIMPLE)\n",
    "contours = contours[0] if len(contours) == 2 else contours[1]\n",
    "for cntr in contours:\n",
    "    x,y,w,h = cv.boundingRect(cntr)\n",
    "    cv.rectangle(result, (x, y), (x+w, y+h), (0, 0, 255), 2)\n",
    "    #print(\"x,y,w,h:\",x,y,w,h)\n",
    "\n",
    "cv.imshow(\"boat\", result)\n",
    "cv.waitKey(0)\n",
    "cv.destroyAllWindows()"
   ]
  },
  {
   "cell_type": "markdown",
   "id": "f180c380",
   "metadata": {},
   "source": [
    "2. Write a program to visualize the effect of size of structuring element on the morphological transformation (e.g. erosion, dilation, opening, and closing). \n",
    "    - Load the 'leaf.jfif' and perform thresholding to segment the leaf from the background.\n",
    "    - Create a GUI containing trackbar to control the size of structuring element and display the resulting image on a window alongside the trackbar."
   ]
  },
  {
   "cell_type": "code",
   "execution_count": null,
   "id": "ea41e9f5",
   "metadata": {},
   "outputs": [],
   "source": [
    "imgleaf = cv.imread(\"leaf.jfif\", 0)\n",
    "\n",
    "blur = cv.GaussianBlur(imgleaf, (5, 5), 0)\n",
    "ret, imgotsu = cv.threshold(blur, 0, 255, cv.THRESH_BINARY+cv.THRESH_OTSU)\n",
    "\n",
    "def trackbar_erosion(x):\n",
    "    kernel = np.ones((x, x), np.uint8)\n",
    "    erosion = cv.erode(imgotsu, kernel, iterations = 1) #erosion\n",
    "    dilation = cv.dilate(imgotsu, kernel,iterations = 1) #dilation\n",
    "    opening = cv.morphologyEx(imgotsu, cv.MORPH_OPEN, kernel) #opening\n",
    "    closing = cv.morphologyEx(imgotsu, cv.MORPH_CLOSE, kernel) # closing\n",
    "    combined_images = np.hstack((imgotsu, erosion, dilation, opening, closing))\n",
    "    \n",
    "    cv.imshow('erosion', combined_images)\n",
    "\n",
    "cv.namedWindow('erosion')\n",
    "cv.createTrackbar('size(n)', 'erosion', 10, 20, trackbar_erosion)\n",
    "\n",
    "cv.waitKey(0)\n",
    "cv.destroyAllWindows()"
   ]
  },
  {
   "cell_type": "markdown",
   "id": "e7d9c106",
   "metadata": {},
   "source": [
    "3. **Apply the steps shown in exercise 4** to segment the porcelain from these images: \"porcelain1.jfif\" - \"porcelain5.jfif\"."
   ]
  },
  {
   "cell_type": "code",
   "execution_count": null,
   "id": "20526418",
   "metadata": {},
   "outputs": [],
   "source": [
    "img = cv.imread('porcelain1.jfif')\n",
    "img = cv.cvtColor(img, cv.COLOR_BGR2RGB)"
   ]
  },
  {
   "cell_type": "code",
   "execution_count": null,
   "id": "7a78ee80",
   "metadata": {},
   "outputs": [],
   "source": [
    "r, g, b = cv.split(img)\n",
    "fig = plt.figure()\n",
    "axis = fig.add_subplot(1, 1, 1, projection = \"3d\")\n",
    "\n",
    "pixel_colors = img.reshape((img.shape[0]*img.shape[1], 3))\n",
    "norm = colors.Normalize(vmin = 0., vmax=1.)\n",
    "norm.autoscale(pixel_colors)\n",
    "pixel_colors = norm(pixel_colors).tolist()\n",
    "\n",
    "axis.scatter(b.flatten(), g.flatten(), r.flatten(), facecolors = pixel_colors,\n",
    "            marker = \".\")\n",
    "axis.set_xlabel('Blue')\n",
    "axis.set_ylabel('Green')\n",
    "axis.set_zlabel('Red')\n",
    "plt.show()"
   ]
  },
  {
   "cell_type": "code",
   "execution_count": null,
   "id": "d4ee36ad",
   "metadata": {},
   "outputs": [],
   "source": [
    "img_hsv = cv.cvtColor(img, cv.COLOR_RGB2HSV)\n",
    "\n",
    "h, s, v = cv.split(img_hsv)\n",
    "fig = plt.figure()\n",
    "axis = fig.add_subplot(1, 1, 1, projection = \"3d\")\n",
    "\n",
    "axis.scatter(h.flatten(), s.flatten(), v.flatten(), facecolors = pixel_colors,\n",
    "            marker = \".\")\n",
    "axis.set_xlabel(\"Hue\")\n",
    "axis.set_ylabel(\"Saturation\")\n",
    "axis.set_zlabel(\"Value\")\n",
    "plt.show()"
   ]
  },
  {
   "cell_type": "code",
   "execution_count": null,
   "id": "c7f09300",
   "metadata": {},
   "outputs": [],
   "source": [
    "blue_low = (80, 130, 20)\n",
    "blue_high = (140, 255, 120)\n",
    "\n",
    "from matplotlib.colors import hsv_to_rgb\n",
    "\n",
    "lo_square = np.full((10, 10, 3), blue_low, dtype = np.uint8)/255.0\n",
    "do_square = np.full((10, 10, 3), blue_high, dtype = np.uint8)/255.0\n",
    "\n",
    "plt.subplot(1, 2, 1)\n",
    "plt.imshow(hsv_to_rgb(do_square))\n",
    "plt.subplot(1,2,2)\n",
    "plt.imshow(hsv_to_rgb(lo_square))\n",
    "plt.show()"
   ]
  },
  {
   "cell_type": "code",
   "execution_count": null,
   "id": "8dd1c6ba",
   "metadata": {},
   "outputs": [],
   "source": [
    "mask = cv.inRange(img_hsv, blue_low, blue_high)\n",
    "res = cv.bitwise_and(img, img, mask = mask)\n",
    "\n",
    "plt.subplot(1,2,1)\n",
    "plt.imshow(mask, cmap = 'gray')\n",
    "plt.subplot(1,2,2)\n",
    "plt.imshow(res)\n",
    "plt.show()"
   ]
  },
  {
   "cell_type": "code",
   "execution_count": null,
   "id": "60d01ed9",
   "metadata": {},
   "outputs": [],
   "source": [
    "white_low = (0, 0, 150)\n",
    "white_high = (150, 45, 255)\n",
    "\n",
    "lo_square = np.full((10, 10, 3), white_low, dtype = np.uint8)/255.0\n",
    "do_square = np.full((10, 10, 3), white_high, dtype = np.uint8)/255.0\n",
    "\n",
    "plt.subplot(1, 2, 1)\n",
    "plt.imshow(hsv_to_rgb(do_square))\n",
    "plt.subplot(1,2,2)\n",
    "plt.imshow(hsv_to_rgb(lo_square))\n",
    "plt.show()"
   ]
  },
  {
   "cell_type": "code",
   "execution_count": null,
   "id": "400c8a87",
   "metadata": {},
   "outputs": [],
   "source": [
    "mask_white = cv.inRange(img_hsv, white_low, white_high)\n",
    "res_white = cv.bitwise_and(img, img, mask = mask_white)\n",
    "\n",
    "plt.subplot(1, 2, 1)\n",
    "plt.imshow(mask_white, cmap = \"gray\")\n",
    "plt.subplot(1, 2, 2)\n",
    "plt.imshow(res_white)\n",
    "plt.show()"
   ]
  },
  {
   "cell_type": "code",
   "execution_count": null,
   "id": "59a7bf08",
   "metadata": {},
   "outputs": [],
   "source": [
    "final_mask = cv.add(mask, mask_white)"
   ]
  },
  {
   "cell_type": "code",
   "execution_count": null,
   "id": "8d077857",
   "metadata": {},
   "outputs": [],
   "source": [
    "# Create a custom function\n",
    "def segment_porcelain(img):\n",
    "    \"\"\"Image segmentation based on HSV color space to segregate\n",
    "    blue and white regions from the provided argument img.\n",
    "    img should be in RGB format.\n",
    "    \"\"\"\n",
    "    # Convert image to HSV\n",
    "    hsv = cv.cvtColor(img, cv.COLOR_RGB2HSV)\n",
    "\n",
    "    # Set the blue color range in HSV color space\n",
    "    blue_low = (80, 130, 20)\n",
    "    blue_high = (140, 255, 120)\n",
    "\n",
    "    # Create blue mask\n",
    "    mask_blue = cv.inRange(hsv, blue_low, blue_high)\n",
    "\n",
    "    # Set the white color range in HSV color space\n",
    "    white_low = (0, 0, 150)\n",
    "    white_high = (150, 45, 255)\n",
    "\n",
    "    # Create white mask\n",
    "    mask_white = cv.inRange(hsv, white_low, white_high)\n",
    "\n",
    "    # AND operation to get the segmented blue region\n",
    "    mask = cv.add(mask_blue, mask_white)\n",
    "    res = cv.bitwise_and(img, img, mask = mask)\n",
    "\n",
    "    # clean up the segmentation using blur filter\n",
    "    blur = cv.GaussianBlur(res, (5, 5), 0)\n",
    "    return blur\n",
    "    \n",
    "filename = \"porcelain\"\n",
    "\n",
    "porcelain_list = []\n",
    "for i in range(1,6):\n",
    "    porcelain = cv.cvtColor(cv.imread(filename + str(i) + \".jfif\"),\n",
    "                           cv.COLOR_BGR2RGB)\n",
    "    porcelain_list.append(porcelain)\n",
    "\n",
    "results = [segment_porcelain(porcelain) for porcelain in porcelain_list]"
   ]
  },
  {
   "cell_type": "code",
   "execution_count": null,
   "id": "8f0b8bc3",
   "metadata": {},
   "outputs": [],
   "source": [
    "f, ax = plt.subplots(5,2, figsize = (18, 8))\n",
    "\n",
    "for i in range(5):\n",
    "    ax[i][0].imshow(porcelain_list[i])\n",
    "    ax[i][1].imshow(results[i])\n",
    "    \n",
    "f.suptitle('Original images and their segmentation results')\n",
    "plt.show()"
   ]
  },
  {
   "cell_type": "code",
   "execution_count": null,
   "id": "1917ba37",
   "metadata": {},
   "outputs": [],
   "source": []
  }
 ],
 "metadata": {
  "kernelspec": {
   "display_name": "Python 3 (ipykernel)",
   "language": "python",
   "name": "python3"
  },
  "language_info": {
   "codemirror_mode": {
    "name": "ipython",
    "version": 3
   },
   "file_extension": ".py",
   "mimetype": "text/x-python",
   "name": "python",
   "nbconvert_exporter": "python",
   "pygments_lexer": "ipython3",
   "version": "3.9.12"
  }
 },
 "nbformat": 4,
 "nbformat_minor": 5
}
